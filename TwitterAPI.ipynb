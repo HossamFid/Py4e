{
 "cells": [
  {
   "cell_type": "code",
   "execution_count": 1,
   "metadata": {},
   "outputs": [],
   "source": [
    "def oauth():\n",
    "    return {\"consumer_key\": \"h7Lu...Ng\",\n",
    "            \"consumer_secret\": \"dNKenAC3New...mmn7Q\",\n",
    "            \"token_key\": \"10185562-eibxCp9n2...P4GEQQOSGI\",\n",
    "            \"token_secret\": \"H0ycCFemmC4wyf1...qoIpBo\"}"
   ]
  },
  {
   "cell_type": "code",
   "execution_count": 2,
   "metadata": {},
   "outputs": [],
   "source": [
    "def augment(url, parameters):\n",
    "    secrets = hidden.oauth()\n",
    "    consumer = oauth.OAuthConsumer(secrets['consumer_key'],\n",
    "                                   secrets['consumer_secret'])\n",
    "    token = oauth.OAuthToken(secrets['token_key'], secrets['token_secret'])\n",
    "\n",
    "    oauth_request = oauth.OAuthRequest.from_consumer_and_token(consumer,\n",
    "                    token=token, http_method='GET', http_url=url,\n",
    "                    parameters=parameters)\n",
    "    oauth_request.sign_request(oauth.OAuthSignatureMethod_HMAC_SHA1(),\n",
    "                               consumer, token)\n",
    "    return oauth_request.to_url()"
   ]
  },
  {
   "cell_type": "code",
   "execution_count": 3,
   "metadata": {},
   "outputs": [
    {
     "ename": "ModuleNotFoundError",
     "evalue": "No module named 'twurl'",
     "output_type": "error",
     "traceback": [
      "\u001b[1;31m---------------------------------------------------------------------------\u001b[0m",
      "\u001b[1;31mModuleNotFoundError\u001b[0m                       Traceback (most recent call last)",
      "\u001b[1;32m<ipython-input-3-f78ec14682a0>\u001b[0m in \u001b[0;36m<module>\u001b[1;34m\u001b[0m\n\u001b[0;32m      1\u001b[0m \u001b[1;32mimport\u001b[0m \u001b[0murllib\u001b[0m\u001b[1;33m.\u001b[0m\u001b[0mrequest\u001b[0m\u001b[1;33m,\u001b[0m \u001b[0murllib\u001b[0m\u001b[1;33m.\u001b[0m\u001b[0mparse\u001b[0m\u001b[1;33m,\u001b[0m \u001b[0murllib\u001b[0m\u001b[1;33m.\u001b[0m\u001b[0merror\u001b[0m\u001b[1;33m\u001b[0m\u001b[1;33m\u001b[0m\u001b[0m\n\u001b[1;32m----> 2\u001b[1;33m \u001b[1;32mfrom\u001b[0m \u001b[0mtwurl\u001b[0m \u001b[1;32mimport\u001b[0m \u001b[0maugment\u001b[0m\u001b[1;33m\u001b[0m\u001b[1;33m\u001b[0m\u001b[0m\n\u001b[0m\u001b[0;32m      3\u001b[0m \u001b[1;32mimport\u001b[0m \u001b[0mssl\u001b[0m\u001b[1;33m\u001b[0m\u001b[1;33m\u001b[0m\u001b[0m\n\u001b[0;32m      4\u001b[0m \u001b[1;33m\u001b[0m\u001b[0m\n\u001b[0;32m      5\u001b[0m \u001b[1;31m# https://apps.twitter.com/\u001b[0m\u001b[1;33m\u001b[0m\u001b[1;33m\u001b[0m\u001b[1;33m\u001b[0m\u001b[0m\n",
      "\u001b[1;31mModuleNotFoundError\u001b[0m: No module named 'twurl'"
     ]
    }
   ],
   "source": [
    "import urllib.request, urllib.parse, urllib.error\n",
    "from twurl import augment\n",
    "import ssl\n",
    "\n",
    "# https://apps.twitter.com/\n",
    "# Create App and get the four strings, put them in hidden.py\n",
    "\n",
    "print('* Calling Twitter...')\n",
    "url = augment('https://api.twitter.com/1.1/statuses/user_timeline.json',\n",
    "              {'screen_name': 'drchuck', 'count': '2'})\n",
    "print(url)\n",
    "\n",
    "# Ignore SSL certificate errors\n",
    "ctx = ssl.create_default_context()\n",
    "ctx.check_hostname = False\n",
    "ctx.verify_mode = ssl.CERT_NONE\n",
    "\n",
    "connection = urllib.request.urlopen(url, context=ctx)\n",
    "data = connection.read()\n",
    "print(data)\n",
    "\n",
    "print ('======================================')\n",
    "headers = dict(connection.getheaders())\n",
    "print(headers)\n"
   ]
  },
  {
   "cell_type": "code",
   "execution_count": 4,
   "metadata": {},
   "outputs": [
    {
     "ename": "ModuleNotFoundError",
     "evalue": "No module named 'twurl'",
     "output_type": "error",
     "traceback": [
      "\u001b[1;31m---------------------------------------------------------------------------\u001b[0m",
      "\u001b[1;31mModuleNotFoundError\u001b[0m                       Traceback (most recent call last)",
      "\u001b[1;32m<ipython-input-4-79339ae9d74d>\u001b[0m in \u001b[0;36m<module>\u001b[1;34m\u001b[0m\n\u001b[0;32m      1\u001b[0m \u001b[1;32mimport\u001b[0m \u001b[0murllib\u001b[0m\u001b[1;33m.\u001b[0m\u001b[0mrequest\u001b[0m\u001b[1;33m,\u001b[0m \u001b[0murllib\u001b[0m\u001b[1;33m.\u001b[0m\u001b[0mparse\u001b[0m\u001b[1;33m,\u001b[0m \u001b[0murllib\u001b[0m\u001b[1;33m.\u001b[0m\u001b[0merror\u001b[0m\u001b[1;33m\u001b[0m\u001b[1;33m\u001b[0m\u001b[0m\n\u001b[1;32m----> 2\u001b[1;33m \u001b[1;32mimport\u001b[0m \u001b[0mtwurl\u001b[0m\u001b[1;33m\u001b[0m\u001b[1;33m\u001b[0m\u001b[0m\n\u001b[0m\u001b[0;32m      3\u001b[0m \u001b[1;32mimport\u001b[0m \u001b[0mssl\u001b[0m\u001b[1;33m\u001b[0m\u001b[1;33m\u001b[0m\u001b[0m\n\u001b[0;32m      4\u001b[0m \u001b[1;33m\u001b[0m\u001b[0m\n\u001b[0;32m      5\u001b[0m \u001b[1;31m# https://apps.twitter.com/\u001b[0m\u001b[1;33m\u001b[0m\u001b[1;33m\u001b[0m\u001b[1;33m\u001b[0m\u001b[0m\n",
      "\u001b[1;31mModuleNotFoundError\u001b[0m: No module named 'twurl'"
     ]
    }
   ],
   "source": [
    "import urllib.request, urllib.parse, urllib.error\n",
    "import twurl\n",
    "import ssl\n",
    "\n",
    "# https://apps.twitter.com/\n",
    "# Create App and get the four strings, put them in hidden.py\n",
    "\n",
    "TWITTER_URL = 'https://api.twitter.com/1.1/statuses/user_timeline.json'\n",
    "\n",
    "# Ignore SSL certificate errors\n",
    "ctx = ssl.create_default_context()\n",
    "ctx.check_hostname = False\n",
    "ctx.verify_mode = ssl.CERT_NONE\n",
    "\n",
    "while True:\n",
    "    print('')\n",
    "    acct = input('Enter Twitter Account:')\n",
    "    if (len(acct) < 1): break\n",
    "    url = twurl.augment(TWITTER_URL,\n",
    "                        {'screen_name': acct, 'count': '2'})\n",
    "    print('Retrieving', url)\n",
    "    connection = urllib.request.urlopen(url, context=ctx)\n",
    "    data = connection.read().decode()\n",
    "    print(data[:250])\n",
    "    headers = dict(connection.getheaders())\n",
    "    # print headers\n",
    "    print('Remaining', headers['x-rate-limit-remaining'])\n"
   ]
  },
  {
   "cell_type": "code",
   "execution_count": null,
   "metadata": {},
   "outputs": [],
   "source": [
    "import urllib.request, urllib.parse, urllib.error\n",
    "import twurl\n",
    "import json\n",
    "import ssl\n",
    "\n",
    "# https://apps.twitter.com/\n",
    "# Create App and get the four strings, put them in hidden.py\n",
    "\n",
    "TWITTER_URL = 'https://api.twitter.com/1.1/friends/list.json'\n",
    "\n",
    "# Ignore SSL certificate errors\n",
    "ctx = ssl.create_default_context()\n",
    "ctx.check_hostname = False\n",
    "ctx.verify_mode = ssl.CERT_NONE\n",
    "\n",
    "while True:\n",
    "    print('')\n",
    "    acct = input('Enter Twitter Account:')\n",
    "    if (len(acct) < 1): break\n",
    "    url = twurl.augment(TWITTER_URL,\n",
    "                        {'screen_name': acct, 'count': '5'})\n",
    "    print('Retrieving', url)\n",
    "    connection = urllib.request.urlopen(url, context=ctx)\n",
    "    data = connection.read().decode()\n",
    "\n",
    "    js = json.loads(data)\n",
    "    print(json.dumps(js, indent=2))\n",
    "\n",
    "    headers = dict(connection.getheaders())\n",
    "    print('Remaining', headers['x-rate-limit-remaining'])\n",
    "\n",
    "    for u in js['users']:\n",
    "        print(u['screen_name'])\n",
    "        if 'status' not in u:\n",
    "            print('   * No status found')\n",
    "            continue\n",
    "        s = u['status']['text']\n",
    "        print('  ', s[:50])\n"
   ]
  }
 ],
 "metadata": {
  "kernelspec": {
   "display_name": "Python 3",
   "language": "python",
   "name": "python3"
  },
  "language_info": {
   "codemirror_mode": {
    "name": "ipython",
    "version": 3
   },
   "file_extension": ".py",
   "mimetype": "text/x-python",
   "name": "python",
   "nbconvert_exporter": "python",
   "pygments_lexer": "ipython3",
   "version": "3.8.5"
  }
 },
 "nbformat": 4,
 "nbformat_minor": 4
}
