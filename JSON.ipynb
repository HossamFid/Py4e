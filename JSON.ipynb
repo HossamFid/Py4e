{
 "cells": [
  {
   "cell_type": "code",
   "execution_count": 1,
   "metadata": {},
   "outputs": [],
   "source": [
    "import json"
   ]
  },
  {
   "cell_type": "code",
   "execution_count": 7,
   "metadata": {},
   "outputs": [
    {
     "name": "stdout",
     "output_type": "stream",
     "text": [
      "Name : Chuck\n",
      "Email: yes\n"
     ]
    }
   ],
   "source": [
    "data = '''\n",
    "{\n",
    "  \"name\" : \"Chuck\",\n",
    "  \"phone\" : {\n",
    "    \"type\" : \"intl\",\n",
    "    \"number\" : \"+1 734 303 4456\"\n",
    "   },\n",
    "   \"email\" : {\n",
    "     \"hide\" : \"yes\"\n",
    "   }\n",
    "}'''\n",
    "\n",
    "info = json.loads(data)\n",
    "print('Name :',info['name'])\n",
    "print('Email:', info['email']['hide'])"
   ]
  },
  {
   "cell_type": "code",
   "execution_count": 9,
   "metadata": {},
   "outputs": [
    {
     "name": "stdout",
     "output_type": "stream",
     "text": [
      "001\n",
      "Chuck\n",
      "2\n",
      "009\n",
      "Brent\n",
      "7\n"
     ]
    }
   ],
   "source": [
    "data = '''\n",
    "[\n",
    "  { \"id\" : \"001\",\n",
    "    \"x\" : \"2\",\n",
    "    \"name\" : \"Chuck\"\n",
    "  } ,\n",
    "  { \"id\" : \"009\",\n",
    "    \"x\" : \"7\",\n",
    "    \"name\" : \"Brent\"\n",
    "  }\n",
    "]'''\n",
    "\n",
    "info = json.loads(data)\n",
    "for item in info :\n",
    "    print(item['id'])\n",
    "    print(item['name'])\n",
    "    print(item['x'])\n",
    "   "
   ]
  },
  {
   "cell_type": "code",
   "execution_count": 30,
   "metadata": {},
   "outputs": [
    {
     "name": "stdout",
     "output_type": "stream",
     "text": [
      "Count: 50\n",
      "Sum: 2835\n"
     ]
    }
   ],
   "source": [
    "import urllib.request, urllib.parse, urllib.error\n",
    "import json \n",
    "\n",
    "\n",
    "url = 'http://py4e-data.dr-chuck.net/comments_1014962.json'\n",
    "# http://py4e-data.dr-chuck.net/comments_1014962.json\n",
    "fhand = urllib.request.urlopen(url)\n",
    "data = fhand.read().decode()\n",
    "\n",
    "js = json.loads(data)\n",
    "\n",
    "\n",
    "summ = []\n",
    "\n",
    "for item in js['comments'] :\n",
    "    \n",
    "    summ.append(item['count'])\n",
    "\n",
    "print('Count:',len(summ))\n",
    "print('Sum:',sum(summ))"
   ]
  },
  {
   "cell_type": "code",
   "execution_count": 26,
   "metadata": {},
   "outputs": [
    {
     "data": {
      "text/plain": [
       "[97,\n",
       " 97,\n",
       " 90,\n",
       " 90,\n",
       " 88,\n",
       " 87,\n",
       " 87,\n",
       " 80,\n",
       " 79,\n",
       " 79,\n",
       " 78,\n",
       " 76,\n",
       " 76,\n",
       " 72,\n",
       " 72,\n",
       " 66,\n",
       " 66,\n",
       " 65,\n",
       " 65,\n",
       " 64,\n",
       " 61,\n",
       " 61,\n",
       " 59,\n",
       " 58,\n",
       " 57,\n",
       " 57,\n",
       " 54,\n",
       " 51,\n",
       " 49,\n",
       " 47,\n",
       " 40,\n",
       " 38,\n",
       " 37,\n",
       " 36,\n",
       " 36,\n",
       " 32,\n",
       " 25,\n",
       " 24,\n",
       " 22,\n",
       " 21,\n",
       " 19,\n",
       " 18,\n",
       " 18,\n",
       " 14,\n",
       " 12,\n",
       " 12,\n",
       " 9,\n",
       " 7,\n",
       " 3,\n",
       " 2]"
      ]
     },
     "execution_count": 26,
     "metadata": {},
     "output_type": "execute_result"
    }
   ],
   "source": [
    "summ"
   ]
  },
  {
   "cell_type": "code",
   "execution_count": null,
   "metadata": {},
   "outputs": [],
   "source": []
  }
 ],
 "metadata": {
  "kernelspec": {
   "display_name": "Python 3",
   "language": "python",
   "name": "python3"
  },
  "language_info": {
   "codemirror_mode": {
    "name": "ipython",
    "version": 3
   },
   "file_extension": ".py",
   "mimetype": "text/x-python",
   "name": "python",
   "nbconvert_exporter": "python",
   "pygments_lexer": "ipython3",
   "version": "3.8.5"
  }
 },
 "nbformat": 4,
 "nbformat_minor": 4
}
