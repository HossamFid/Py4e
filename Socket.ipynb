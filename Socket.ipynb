{
 "cells": [
  {
   "cell_type": "code",
   "execution_count": null,
   "metadata": {},
   "outputs": [],
   "source": [
    "import socket\n",
    "\n",
    "mysock = socket.socket(socket.AF_INET, socket.SOCK_STREAM)\n",
    "mysock.connect(('data.pr4e.org', 80))\n",
    "cmd = 'GET http://data.pr4e.org/intro-short.txt HTTP/1.0\\r\\n\\r\\n'.encode()\n",
    "mysock.send(cmd)\n",
    "\n",
    "while True:\n",
    "    data = mysock.recv(512)\n",
    "    if len(data) < 1:\n",
    "        break\n",
    "    print(data.decode(),end='')\n",
    "\n",
    "mysock.close()\n",
    "\n",
    "############################################\n",
    "############################################\n",
    "# short version of socket/HTTP communcation\n",
    "\n",
    "\n",
    "import urllib.request , urllib.parse, urllib.error\n",
    "\n",
    "fhand = urllib.request.urlopen(\"http://www.hossam-fid.com/page.html\")\n",
    "#for line in fhand :\n",
    "    #line = line.decode().strip()\n",
    "\n",
    "counts = dict()\n",
    "for line in fhand :\n",
    "    words = line.decode().split()   # decode from bytes\n",
    "    # words now is a list of \"Words\"\n",
    "    for word in words :\n",
    "        counts[word] = counts.get(word, 0)+1\n"
   ]
  }
 ],
 "metadata": {
  "kernelspec": {
   "display_name": "Python 3",
   "language": "python",
   "name": "python3"
  },
  "language_info": {
   "codemirror_mode": {
    "name": "ipython",
    "version": 3
   },
   "file_extension": ".py",
   "mimetype": "text/x-python",
   "name": "python",
   "nbconvert_exporter": "python",
   "pygments_lexer": "ipython3",
   "version": "3.8.5"
  }
 },
 "nbformat": 4,
 "nbformat_minor": 4
}
